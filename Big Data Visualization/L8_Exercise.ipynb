{
 "cells": [
  {
   "cell_type": "markdown",
   "metadata": {},
   "source": [
    "# Module 8 Exercise - Data Storytelling\n",
    "\n",
    "In this exercise, you will **create a narrative visualization with a data set of your choosing**. You can choose any data set you can find on the Internet, or a data set related to your current line of work. \n",
    "\n",
    "**You will create visualizations to give a message, make a point, or convince your audience by using all the techniques we have seen throughout the course.**\n",
    "\n",
    "Here is a list of your tasks:\n",
    "\n",
    "1. Find a data set and upload it to your exercises folder in module 8. \n",
    "\n",
    "2. Write your R code **in this exercise notebook** to create your visualizations, and save them under `exercises` folder.\n",
    "\n",
    "3. Create a **narrative visualization document** using **any** software you want (Word, PowerPoint, Photoshop, etc.) by pasting your visualizations and creating all necessary elements (captions, text annotations, layout, etc.) \n",
    "\n",
    "4. Save your end product as a **pdf file** and upload it to your exercises folder (**name it L8_Exercise.pdf**)\n",
    "\n",
    "Make sure that you start with a clear message in mind, and filter and format your data accordingly, and create the visualizations that will **support that message**. \n",
    "\n",
    "You need to have **at least one major visualization, and a number of supporting smaller graphs (2, 3, or more)**. Make sure to have a **clean layout**, and **enough text annotations and captions** to make your message clear. \n",
    "\n",
    "You can choose any type of visualization that you believe will be most **effective** for the type of data and the message you have chosen. \n",
    "\n",
    "You will be graded by the quality of your visualizations and storytelling; **make sure to use everything you have learned in this course.** \n",
    "\n",
    "\n",
    "Following is to show how to plot to a file to save a graph:"
   ]
  },
  {
   "cell_type": "code",
   "execution_count": 1,
   "metadata": {},
   "outputs": [
    {
     "data": {
      "text/html": [
       "<strong>png:</strong> 2"
      ],
      "text/latex": [
       "\\textbf{png:} 2"
      ],
      "text/markdown": [
       "**png:** 2"
      ],
      "text/plain": [
       "png \n",
       "  2 "
      ]
     },
     "metadata": {},
     "output_type": "display_data"
    }
   ],
   "source": [
    "# this is how you save a plot to a file\n",
    "library(ggplot2)\n",
    "\n",
    "# comment this out to see the plot in the notebook \n",
    "png(filename=\"myplot.png\")\n",
    "\n",
    "# your plot here..\n",
    "qplot(carat, price, data = diamonds)\n",
    "\n",
    "# comment this out to see the plot in the notebook\n",
    "dev.off()"
   ]
  },
  {
   "cell_type": "markdown",
   "metadata": {},
   "source": [
    "Make sure you have all axis labels set in R notebook before you save your plot. You can adjust width and height when saving your plots.  Here is a reference to png() function:\n",
    "https://stat.ethz.ch/R-manual/R-devel/library/grDevices/html/png.html"
   ]
  },
  {
   "cell_type": "markdown",
   "metadata": {},
   "source": [
    "**Activity:**"
   ]
  },
  {
   "cell_type": "code",
   "execution_count": 2,
   "metadata": {},
   "outputs": [
    {
     "data": {
      "text/html": [
       "<table>\n",
       "<caption>A data.frame: 6 × 12</caption>\n",
       "<thead>\n",
       "\t<tr><th scope=col>Country</th><th scope=col>Region</th><th scope=col>Happiness.Rank</th><th scope=col>Happiness.Score</th><th scope=col>Standard.Error</th><th scope=col>Economy..GDP.per.Capita.</th><th scope=col>Family</th><th scope=col>Health..Life.Expectancy.</th><th scope=col>Freedom</th><th scope=col>Trust..Government.Corruption.</th><th scope=col>Generosity</th><th scope=col>Dystopia.Residual</th></tr>\n",
       "\t<tr><th scope=col>&lt;fct&gt;</th><th scope=col>&lt;fct&gt;</th><th scope=col>&lt;int&gt;</th><th scope=col>&lt;dbl&gt;</th><th scope=col>&lt;dbl&gt;</th><th scope=col>&lt;dbl&gt;</th><th scope=col>&lt;dbl&gt;</th><th scope=col>&lt;dbl&gt;</th><th scope=col>&lt;dbl&gt;</th><th scope=col>&lt;dbl&gt;</th><th scope=col>&lt;dbl&gt;</th><th scope=col>&lt;dbl&gt;</th></tr>\n",
       "</thead>\n",
       "<tbody>\n",
       "\t<tr><td>Switzerland</td><td>Western Europe</td><td>1</td><td>7.587</td><td>0.03411</td><td>1.39651</td><td>1.34951</td><td>0.94143</td><td>0.66557</td><td>0.41978</td><td>0.29678</td><td>2.51738</td></tr>\n",
       "\t<tr><td>Iceland    </td><td>Western Europe</td><td>2</td><td>7.561</td><td>0.04884</td><td>1.30232</td><td>1.40223</td><td>0.94784</td><td>0.62877</td><td>0.14145</td><td>0.43630</td><td>2.70201</td></tr>\n",
       "\t<tr><td>Denmark    </td><td>Western Europe</td><td>3</td><td>7.527</td><td>0.03328</td><td>1.32548</td><td>1.36058</td><td>0.87464</td><td>0.64938</td><td>0.48357</td><td>0.34139</td><td>2.49204</td></tr>\n",
       "\t<tr><td>Norway     </td><td>Western Europe</td><td>4</td><td>7.522</td><td>0.03880</td><td>1.45900</td><td>1.33095</td><td>0.88521</td><td>0.66973</td><td>0.36503</td><td>0.34699</td><td>2.46531</td></tr>\n",
       "\t<tr><td>Canada     </td><td>North America </td><td>5</td><td>7.427</td><td>0.03553</td><td>1.32629</td><td>1.32261</td><td>0.90563</td><td>0.63297</td><td>0.32957</td><td>0.45811</td><td>2.45176</td></tr>\n",
       "\t<tr><td>Finland    </td><td>Western Europe</td><td>6</td><td>7.406</td><td>0.03140</td><td>1.29025</td><td>1.31826</td><td>0.88911</td><td>0.64169</td><td>0.41372</td><td>0.23351</td><td>2.61955</td></tr>\n",
       "</tbody>\n",
       "</table>\n"
      ],
      "text/latex": [
       "A data.frame: 6 × 12\n",
       "\\begin{tabular}{r|llllllllllll}\n",
       " Country & Region & Happiness.Rank & Happiness.Score & Standard.Error & Economy..GDP.per.Capita. & Family & Health..Life.Expectancy. & Freedom & Trust..Government.Corruption. & Generosity & Dystopia.Residual\\\\\n",
       " <fct> & <fct> & <int> & <dbl> & <dbl> & <dbl> & <dbl> & <dbl> & <dbl> & <dbl> & <dbl> & <dbl>\\\\\n",
       "\\hline\n",
       "\t Switzerland & Western Europe & 1 & 7.587 & 0.03411 & 1.39651 & 1.34951 & 0.94143 & 0.66557 & 0.41978 & 0.29678 & 2.51738\\\\\n",
       "\t Iceland     & Western Europe & 2 & 7.561 & 0.04884 & 1.30232 & 1.40223 & 0.94784 & 0.62877 & 0.14145 & 0.43630 & 2.70201\\\\\n",
       "\t Denmark     & Western Europe & 3 & 7.527 & 0.03328 & 1.32548 & 1.36058 & 0.87464 & 0.64938 & 0.48357 & 0.34139 & 2.49204\\\\\n",
       "\t Norway      & Western Europe & 4 & 7.522 & 0.03880 & 1.45900 & 1.33095 & 0.88521 & 0.66973 & 0.36503 & 0.34699 & 2.46531\\\\\n",
       "\t Canada      & North America  & 5 & 7.427 & 0.03553 & 1.32629 & 1.32261 & 0.90563 & 0.63297 & 0.32957 & 0.45811 & 2.45176\\\\\n",
       "\t Finland     & Western Europe & 6 & 7.406 & 0.03140 & 1.29025 & 1.31826 & 0.88911 & 0.64169 & 0.41372 & 0.23351 & 2.61955\\\\\n",
       "\\end{tabular}\n"
      ],
      "text/markdown": [
       "\n",
       "A data.frame: 6 × 12\n",
       "\n",
       "| Country &lt;fct&gt; | Region &lt;fct&gt; | Happiness.Rank &lt;int&gt; | Happiness.Score &lt;dbl&gt; | Standard.Error &lt;dbl&gt; | Economy..GDP.per.Capita. &lt;dbl&gt; | Family &lt;dbl&gt; | Health..Life.Expectancy. &lt;dbl&gt; | Freedom &lt;dbl&gt; | Trust..Government.Corruption. &lt;dbl&gt; | Generosity &lt;dbl&gt; | Dystopia.Residual &lt;dbl&gt; |\n",
       "|---|---|---|---|---|---|---|---|---|---|---|---|\n",
       "| Switzerland | Western Europe | 1 | 7.587 | 0.03411 | 1.39651 | 1.34951 | 0.94143 | 0.66557 | 0.41978 | 0.29678 | 2.51738 |\n",
       "| Iceland     | Western Europe | 2 | 7.561 | 0.04884 | 1.30232 | 1.40223 | 0.94784 | 0.62877 | 0.14145 | 0.43630 | 2.70201 |\n",
       "| Denmark     | Western Europe | 3 | 7.527 | 0.03328 | 1.32548 | 1.36058 | 0.87464 | 0.64938 | 0.48357 | 0.34139 | 2.49204 |\n",
       "| Norway      | Western Europe | 4 | 7.522 | 0.03880 | 1.45900 | 1.33095 | 0.88521 | 0.66973 | 0.36503 | 0.34699 | 2.46531 |\n",
       "| Canada      | North America  | 5 | 7.427 | 0.03553 | 1.32629 | 1.32261 | 0.90563 | 0.63297 | 0.32957 | 0.45811 | 2.45176 |\n",
       "| Finland     | Western Europe | 6 | 7.406 | 0.03140 | 1.29025 | 1.31826 | 0.88911 | 0.64169 | 0.41372 | 0.23351 | 2.61955 |\n",
       "\n"
      ],
      "text/plain": [
       "  Country     Region         Happiness.Rank Happiness.Score Standard.Error\n",
       "1 Switzerland Western Europe 1              7.587           0.03411       \n",
       "2 Iceland     Western Europe 2              7.561           0.04884       \n",
       "3 Denmark     Western Europe 3              7.527           0.03328       \n",
       "4 Norway      Western Europe 4              7.522           0.03880       \n",
       "5 Canada      North America  5              7.427           0.03553       \n",
       "6 Finland     Western Europe 6              7.406           0.03140       \n",
       "  Economy..GDP.per.Capita. Family  Health..Life.Expectancy. Freedom\n",
       "1 1.39651                  1.34951 0.94143                  0.66557\n",
       "2 1.30232                  1.40223 0.94784                  0.62877\n",
       "3 1.32548                  1.36058 0.87464                  0.64938\n",
       "4 1.45900                  1.33095 0.88521                  0.66973\n",
       "5 1.32629                  1.32261 0.90563                  0.63297\n",
       "6 1.29025                  1.31826 0.88911                  0.64169\n",
       "  Trust..Government.Corruption. Generosity Dystopia.Residual\n",
       "1 0.41978                       0.29678    2.51738          \n",
       "2 0.14145                       0.43630    2.70201          \n",
       "3 0.48357                       0.34139    2.49204          \n",
       "4 0.36503                       0.34699    2.46531          \n",
       "5 0.32957                       0.45811    2.45176          \n",
       "6 0.41372                       0.23351    2.61955          "
      ]
     },
     "metadata": {},
     "output_type": "display_data"
    },
    {
     "data": {
      "text/html": [
       "<table>\n",
       "<caption>A data.frame: 6 × 9</caption>\n",
       "<thead>\n",
       "\t<tr><th></th><th scope=col>Overall.rank</th><th scope=col>Country.or.region</th><th scope=col>Score</th><th scope=col>GDP.per.capita</th><th scope=col>Social.support</th><th scope=col>Healthy.life.expectancy</th><th scope=col>Freedom.to.make.life.choices</th><th scope=col>Generosity</th><th scope=col>Perceptions.of.corruption</th></tr>\n",
       "\t<tr><th></th><th scope=col>&lt;int&gt;</th><th scope=col>&lt;fct&gt;</th><th scope=col>&lt;dbl&gt;</th><th scope=col>&lt;dbl&gt;</th><th scope=col>&lt;dbl&gt;</th><th scope=col>&lt;dbl&gt;</th><th scope=col>&lt;dbl&gt;</th><th scope=col>&lt;dbl&gt;</th><th scope=col>&lt;dbl&gt;</th></tr>\n",
       "</thead>\n",
       "<tbody>\n",
       "\t<tr><th scope=row>151</th><td>151</td><td>Yemen                   </td><td>3.380</td><td>0.287</td><td>1.163</td><td>0.463</td><td>0.143</td><td>0.108</td><td>0.077</td></tr>\n",
       "\t<tr><th scope=row>152</th><td>152</td><td>Rwanda                  </td><td>3.334</td><td>0.359</td><td>0.711</td><td>0.614</td><td>0.555</td><td>0.217</td><td>0.411</td></tr>\n",
       "\t<tr><th scope=row>153</th><td>153</td><td>Tanzania                </td><td>3.231</td><td>0.476</td><td>0.885</td><td>0.499</td><td>0.417</td><td>0.276</td><td>0.147</td></tr>\n",
       "\t<tr><th scope=row>154</th><td>154</td><td>Afghanistan             </td><td>3.203</td><td>0.350</td><td>0.517</td><td>0.361</td><td>0.000</td><td>0.158</td><td>0.025</td></tr>\n",
       "\t<tr><th scope=row>155</th><td>155</td><td>Central African Republic</td><td>3.083</td><td>0.026</td><td>0.000</td><td>0.105</td><td>0.225</td><td>0.235</td><td>0.035</td></tr>\n",
       "\t<tr><th scope=row>156</th><td>156</td><td>South Sudan             </td><td>2.853</td><td>0.306</td><td>0.575</td><td>0.295</td><td>0.010</td><td>0.202</td><td>0.091</td></tr>\n",
       "</tbody>\n",
       "</table>\n"
      ],
      "text/latex": [
       "A data.frame: 6 × 9\n",
       "\\begin{tabular}{r|lllllllll}\n",
       "  & Overall.rank & Country.or.region & Score & GDP.per.capita & Social.support & Healthy.life.expectancy & Freedom.to.make.life.choices & Generosity & Perceptions.of.corruption\\\\\n",
       "  & <int> & <fct> & <dbl> & <dbl> & <dbl> & <dbl> & <dbl> & <dbl> & <dbl>\\\\\n",
       "\\hline\n",
       "\t151 & 151 & Yemen                    & 3.380 & 0.287 & 1.163 & 0.463 & 0.143 & 0.108 & 0.077\\\\\n",
       "\t152 & 152 & Rwanda                   & 3.334 & 0.359 & 0.711 & 0.614 & 0.555 & 0.217 & 0.411\\\\\n",
       "\t153 & 153 & Tanzania                 & 3.231 & 0.476 & 0.885 & 0.499 & 0.417 & 0.276 & 0.147\\\\\n",
       "\t154 & 154 & Afghanistan              & 3.203 & 0.350 & 0.517 & 0.361 & 0.000 & 0.158 & 0.025\\\\\n",
       "\t155 & 155 & Central African Republic & 3.083 & 0.026 & 0.000 & 0.105 & 0.225 & 0.235 & 0.035\\\\\n",
       "\t156 & 156 & South Sudan              & 2.853 & 0.306 & 0.575 & 0.295 & 0.010 & 0.202 & 0.091\\\\\n",
       "\\end{tabular}\n"
      ],
      "text/markdown": [
       "\n",
       "A data.frame: 6 × 9\n",
       "\n",
       "| <!--/--> | Overall.rank &lt;int&gt; | Country.or.region &lt;fct&gt; | Score &lt;dbl&gt; | GDP.per.capita &lt;dbl&gt; | Social.support &lt;dbl&gt; | Healthy.life.expectancy &lt;dbl&gt; | Freedom.to.make.life.choices &lt;dbl&gt; | Generosity &lt;dbl&gt; | Perceptions.of.corruption &lt;dbl&gt; |\n",
       "|---|---|---|---|---|---|---|---|---|---|\n",
       "| 151 | 151 | Yemen                    | 3.380 | 0.287 | 1.163 | 0.463 | 0.143 | 0.108 | 0.077 |\n",
       "| 152 | 152 | Rwanda                   | 3.334 | 0.359 | 0.711 | 0.614 | 0.555 | 0.217 | 0.411 |\n",
       "| 153 | 153 | Tanzania                 | 3.231 | 0.476 | 0.885 | 0.499 | 0.417 | 0.276 | 0.147 |\n",
       "| 154 | 154 | Afghanistan              | 3.203 | 0.350 | 0.517 | 0.361 | 0.000 | 0.158 | 0.025 |\n",
       "| 155 | 155 | Central African Republic | 3.083 | 0.026 | 0.000 | 0.105 | 0.225 | 0.235 | 0.035 |\n",
       "| 156 | 156 | South Sudan              | 2.853 | 0.306 | 0.575 | 0.295 | 0.010 | 0.202 | 0.091 |\n",
       "\n"
      ],
      "text/plain": [
       "    Overall.rank Country.or.region        Score GDP.per.capita Social.support\n",
       "151 151          Yemen                    3.380 0.287          1.163         \n",
       "152 152          Rwanda                   3.334 0.359          0.711         \n",
       "153 153          Tanzania                 3.231 0.476          0.885         \n",
       "154 154          Afghanistan              3.203 0.350          0.517         \n",
       "155 155          Central African Republic 3.083 0.026          0.000         \n",
       "156 156          South Sudan              2.853 0.306          0.575         \n",
       "    Healthy.life.expectancy Freedom.to.make.life.choices Generosity\n",
       "151 0.463                   0.143                        0.108     \n",
       "152 0.614                   0.555                        0.217     \n",
       "153 0.499                   0.417                        0.276     \n",
       "154 0.361                   0.000                        0.158     \n",
       "155 0.105                   0.225                        0.235     \n",
       "156 0.295                   0.010                        0.202     \n",
       "    Perceptions.of.corruption\n",
       "151 0.077                    \n",
       "152 0.411                    \n",
       "153 0.147                    \n",
       "154 0.025                    \n",
       "155 0.035                    \n",
       "156 0.091                    "
      ]
     },
     "metadata": {},
     "output_type": "display_data"
    }
   ],
   "source": [
    "# Read your data here; \n",
    "df_2015 <- read.csv(\"2015.csv\")\n",
    "df_2016 <- read.csv(\"2016.csv\")\n",
    "df_2017 <- read.csv(\"2017.csv\")\n",
    "df_2018 <- read.csv(\"2018.csv\")\n",
    "df_2019 <- read.csv(\"2019.csv\")\n",
    "\n",
    "head(df_2015)\n",
    "tail(df_2019)\n"
   ]
  },
  {
   "cell_type": "code",
   "execution_count": 3,
   "metadata": {},
   "outputs": [
    {
     "name": "stderr",
     "output_type": "stream",
     "text": [
      "\n",
      "Attaching package: ‘dplyr’\n",
      "\n",
      "The following objects are masked from ‘package:plyr’:\n",
      "\n",
      "    arrange, count, desc, failwith, id, mutate, rename, summarise,\n",
      "    summarize\n",
      "\n",
      "The following objects are masked from ‘package:stats’:\n",
      "\n",
      "    filter, lag\n",
      "\n",
      "The following objects are masked from ‘package:base’:\n",
      "\n",
      "    intersect, setdiff, setequal, union\n",
      "\n"
     ]
    }
   ],
   "source": [
    "# Clean it up, reformat it, filter it, sort it, group it, etc.\n",
    "library(plyr)\n",
    "library(dplyr)\n",
    "library(tidyr)\n",
    "\n",
    "df_2015$Year <- 2015 # Add column for year\n",
    "df_2015 <- subset(df_2015, select = -c(Standard.Error, Region, Dystopia.Residual)) # Remove unneeded columns\n",
    "# Standradize column names\n",
    "df_2015 <- plyr::rename(df_2015, c(\"Happiness.Rank\" = \"Rank\", \"Happiness.Score\" = \"Score\", \"Economy..GDP.per.Capita.\" = \"GDP_per_Capita\", \"Family\" = \"Family_Social_Support\", \"Health..Life.Expectancy.\" = \"Life_Expectancy\", \"Trust..Government.Corruption.\" = \"Government_Corruption\"))\n",
    "\n",
    "\n",
    "df_2016$Year <- 2016 # Add column for year\n",
    "df_2016 <- subset(df_2016, select = -c(Region, Lower.Confidence.Interval, Upper.Confidence.Interval, Dystopia.Residual)) # Remove unneeded columns\n",
    "# Standradize column names\n",
    "df_2016 <- plyr::rename(df_2016, c(\"Happiness.Rank\" = \"Rank\", \"Happiness.Score\" = \"Score\", \"Economy..GDP.per.Capita.\" = \"GDP_per_Capita\", \"Family\" = \"Family_Social_Support\", \"Health..Life.Expectancy.\" = \"Life_Expectancy\", \"Trust..Government.Corruption.\" = \"Government_Corruption\"))\n",
    "\n",
    "df_2017$Year <- 2017 # Add column for year\n",
    "df_2017 <- subset(df_2017, select = -c(Whisker.high, Whisker.low, Dystopia.Residual))\n",
    "# Standradize column names\n",
    "df_2017 <- plyr::rename(df_2017, c(\"Happiness.Rank\" = \"Rank\", \"Happiness.Score\" = \"Score\", \"Economy..GDP.per.Capita.\" = \"GDP_per_Capita\", \"Family\" = \"Family_Social_Support\", \"Health..Life.Expectancy.\" = \"Life_Expectancy\", \"Trust..Government.Corruption.\" = \"Government_Corruption\"))\n",
    "\n",
    "df_2018$Year <- 2018 # Add column for year\n",
    "# Standradize column names\n",
    "df_2018 <- plyr::rename(df_2018, c(\"Overall.rank\" = \"Rank\", \"Country.or.region\" = \"Country\", \"GDP.per.capita\" = \"GDP_per_Capita\", \"Social.support\" = \"Family_Social_Support\", \"Healthy.life.expectancy\" = \"Life_Expectancy\", \"Freedom.to.make.life.choices\" = \"Freedom\", \"Perceptions.of.corruption\" = \"Government_Corruption\"))\n",
    "\n",
    "df_2019$Year <- 2019 # Add column for year\n",
    "# Standradize column names\n",
    "df_2019 <- plyr::rename(df_2019, c(\"Overall.rank\" = \"Rank\", \"Country.or.region\" = \"Country\", \"GDP.per.capita\" = \"GDP_per_Capita\", \"Social.support\" = \"Family_Social_Support\", \"Healthy.life.expectancy\" = \"Life_Expectancy\", \"Freedom.to.make.life.choices\" = \"Freedom\", \"Perceptions.of.corruption\" = \"Government_Corruption\"))\n"
   ]
  },
  {
   "cell_type": "code",
   "execution_count": 4,
   "metadata": {},
   "outputs": [],
   "source": [
    "# Fix country names so they will match the world map\n",
    "country_fix <- function(x) {\n",
    "    x$Country <- as.character(x$Country)\n",
    "    x <- mutate(x, Country = ifelse(Country == \"Congo (Kinshasa)\", \"Democratic Republic of the Congo\", Country))\n",
    "    x <- mutate(x, Country = ifelse(Country == \"Congo (Brazzaville)\", \"Republic of Congo\", Country))\n",
    "    x <- mutate(x, Country = ifelse(Country == \"United Kingdom\", \"UK\", Country))\n",
    "    x <- mutate(x, Country = ifelse(Country == \"United States\", \"USA\", Country))\n",
    "    x <- mutate(x, Country = ifelse(Country == \"Taiwan Province of China\", \"Taiwan\", Country))\n",
    "    x <- mutate(x, Country = ifelse(Country == \"Trinidad and Tobago\", \"Trinidad\", Country))\n",
    "    x <- mutate(x, Country = ifelse(Country == \"Trinidad & Tobago\", \"Trinidad\", Country))\n",
    "}\n",
    "\n",
    "df_2015 <- country_fix(df_2015)\n",
    "df_2016 <- country_fix(df_2016)\n",
    "df_2017 <- country_fix(df_2017)\n",
    "df_2018 <- country_fix(df_2018)\n",
    "df_2019 <- country_fix(df_2019)\n"
   ]
  },
  {
   "cell_type": "code",
   "execution_count": 5,
   "metadata": {},
   "outputs": [],
   "source": [
    "# South Sudan was still part of Sudan in 2015\n",
    "s <- filter(df_2015, Country == \"Sudan\")\n",
    "s <- mutate(s, Country = \"South Sudan\")\n",
    "df_2015 <- rbind(df_2015, s)\n"
   ]
  },
  {
   "cell_type": "code",
   "execution_count": 6,
   "metadata": {},
   "outputs": [],
   "source": [
    "# Trinidad & Tobago listed separately in world map, but scored as one\n",
    "tobago <- function(x) {\n",
    "    t <- filter(x, Country == \"Trinidad\")\n",
    "    t <- mutate(t, Country = \"Tobago\")\n",
    "    rbind(x, t)\n",
    "}\n",
    "\n",
    "df_2015 <- tobago(df_2015)\n",
    "df_2016 <- tobago(df_2016)\n",
    "df_2017 <- tobago(df_2017)\n",
    "df_2018 <- tobago(df_2018)\n",
    "df_2019 <- tobago(df_2019)\n"
   ]
  },
  {
   "cell_type": "code",
   "execution_count": 7,
   "metadata": {},
   "outputs": [
    {
     "data": {
      "text/html": [
       "<table>\n",
       "<caption>A data.frame: 6 × 7</caption>\n",
       "<thead>\n",
       "\t<tr><th scope=col>Country</th><th scope=col>Score_2019</th><th scope=col>Rank_2019</th><th scope=col>Score_2015</th><th scope=col>Rank_2015</th><th scope=col>Score_Change</th><th scope=col>Rank_Change</th></tr>\n",
       "\t<tr><th scope=col>&lt;chr&gt;</th><th scope=col>&lt;dbl&gt;</th><th scope=col>&lt;int&gt;</th><th scope=col>&lt;dbl&gt;</th><th scope=col>&lt;int&gt;</th><th scope=col>&lt;dbl&gt;</th><th scope=col>&lt;int&gt;</th></tr>\n",
       "</thead>\n",
       "<tbody>\n",
       "\t<tr><td>Finland    </td><td>7.769</td><td>1</td><td>7.406</td><td>6</td><td> 0.363</td><td>-5</td></tr>\n",
       "\t<tr><td>Denmark    </td><td>7.600</td><td>2</td><td>7.527</td><td>3</td><td> 0.073</td><td>-1</td></tr>\n",
       "\t<tr><td>Norway     </td><td>7.554</td><td>3</td><td>7.522</td><td>4</td><td> 0.032</td><td>-1</td></tr>\n",
       "\t<tr><td>Iceland    </td><td>7.494</td><td>4</td><td>7.561</td><td>2</td><td>-0.067</td><td> 2</td></tr>\n",
       "\t<tr><td>Netherlands</td><td>7.488</td><td>5</td><td>7.378</td><td>7</td><td> 0.110</td><td>-2</td></tr>\n",
       "\t<tr><td>Switzerland</td><td>7.480</td><td>6</td><td>7.587</td><td>1</td><td>-0.107</td><td> 5</td></tr>\n",
       "</tbody>\n",
       "</table>\n"
      ],
      "text/latex": [
       "A data.frame: 6 × 7\n",
       "\\begin{tabular}{r|lllllll}\n",
       " Country & Score\\_2019 & Rank\\_2019 & Score\\_2015 & Rank\\_2015 & Score\\_Change & Rank\\_Change\\\\\n",
       " <chr> & <dbl> & <int> & <dbl> & <int> & <dbl> & <int>\\\\\n",
       "\\hline\n",
       "\t Finland     & 7.769 & 1 & 7.406 & 6 &  0.363 & -5\\\\\n",
       "\t Denmark     & 7.600 & 2 & 7.527 & 3 &  0.073 & -1\\\\\n",
       "\t Norway      & 7.554 & 3 & 7.522 & 4 &  0.032 & -1\\\\\n",
       "\t Iceland     & 7.494 & 4 & 7.561 & 2 & -0.067 &  2\\\\\n",
       "\t Netherlands & 7.488 & 5 & 7.378 & 7 &  0.110 & -2\\\\\n",
       "\t Switzerland & 7.480 & 6 & 7.587 & 1 & -0.107 &  5\\\\\n",
       "\\end{tabular}\n"
      ],
      "text/markdown": [
       "\n",
       "A data.frame: 6 × 7\n",
       "\n",
       "| Country &lt;chr&gt; | Score_2019 &lt;dbl&gt; | Rank_2019 &lt;int&gt; | Score_2015 &lt;dbl&gt; | Rank_2015 &lt;int&gt; | Score_Change &lt;dbl&gt; | Rank_Change &lt;int&gt; |\n",
       "|---|---|---|---|---|---|---|\n",
       "| Finland     | 7.769 | 1 | 7.406 | 6 |  0.363 | -5 |\n",
       "| Denmark     | 7.600 | 2 | 7.527 | 3 |  0.073 | -1 |\n",
       "| Norway      | 7.554 | 3 | 7.522 | 4 |  0.032 | -1 |\n",
       "| Iceland     | 7.494 | 4 | 7.561 | 2 | -0.067 |  2 |\n",
       "| Netherlands | 7.488 | 5 | 7.378 | 7 |  0.110 | -2 |\n",
       "| Switzerland | 7.480 | 6 | 7.587 | 1 | -0.107 |  5 |\n",
       "\n"
      ],
      "text/plain": [
       "  Country     Score_2019 Rank_2019 Score_2015 Rank_2015 Score_Change\n",
       "1 Finland     7.769      1         7.406      6          0.363      \n",
       "2 Denmark     7.600      2         7.527      3          0.073      \n",
       "3 Norway      7.554      3         7.522      4          0.032      \n",
       "4 Iceland     7.494      4         7.561      2         -0.067      \n",
       "5 Netherlands 7.488      5         7.378      7          0.110      \n",
       "6 Switzerland 7.480      6         7.587      1         -0.107      \n",
       "  Rank_Change\n",
       "1 -5         \n",
       "2 -1         \n",
       "3 -1         \n",
       "4  2         \n",
       "5 -2         \n",
       "6  5         "
      ]
     },
     "metadata": {},
     "output_type": "display_data"
    }
   ],
   "source": [
    "# Dataframe to compare changes in Rank and Score 2015 to 2019\n",
    "\n",
    "sub_2015 <- select(df_2015, c(Country, Score, Rank))\n",
    "\n",
    "df_change <- select(df_2019, c(Country, Score, Rank)) %>%\n",
    "    plyr::rename(c(\"Score\" = \"Score_2019\", \"Rank\" = \"Rank_2019\"))\n",
    "df_change <- left_join(df_change, sub_2015, by = \"Country\") %>%\n",
    "    plyr::rename(c(\"Score\" = \"Score_2015\", \"Rank\" = \"Rank_2015\")) %>%\n",
    "    mutate(Score_Change = Score_2019 - Score_2015) %>%\n",
    "    mutate(Rank_Change = Rank_2019 - Rank_2015)\n",
    "\n",
    "head(df_change)\n"
   ]
  },
  {
   "cell_type": "code",
   "execution_count": 8,
   "metadata": {},
   "outputs": [
    {
     "data": {
      "text/html": [
       "<table>\n",
       "<caption>A data.frame: 20 × 10</caption>\n",
       "<thead>\n",
       "\t<tr><th scope=col>Country</th><th scope=col>Rank</th><th scope=col>Score</th><th scope=col>GDP_per_Capita</th><th scope=col>Family_Social_Support</th><th scope=col>Life_Expectancy</th><th scope=col>Freedom</th><th scope=col>Government_Corruption</th><th scope=col>Generosity</th><th scope=col>Year</th></tr>\n",
       "\t<tr><th scope=col>&lt;chr&gt;</th><th scope=col>&lt;int&gt;</th><th scope=col>&lt;dbl&gt;</th><th scope=col>&lt;dbl&gt;</th><th scope=col>&lt;dbl&gt;</th><th scope=col>&lt;dbl&gt;</th><th scope=col>&lt;dbl&gt;</th><th scope=col>&lt;dbl&gt;</th><th scope=col>&lt;dbl&gt;</th><th scope=col>&lt;dbl&gt;</th></tr>\n",
       "</thead>\n",
       "<tbody>\n",
       "\t<tr><td>Honduras   </td><td>105</td><td>4.788</td><td>0.5953200</td><td>0.9534800</td><td>0.69510000</td><td>0.4014800</td><td>0.06825000</td><td>0.2302700</td><td>2015</td></tr>\n",
       "\t<tr><td>Ivory Coast</td><td>151</td><td>3.655</td><td>0.4653400</td><td>0.7711500</td><td>0.15185000</td><td>0.4686600</td><td>0.17922000</td><td>0.2016500</td><td>2015</td></tr>\n",
       "\t<tr><td>Benin      </td><td>155</td><td>3.340</td><td>0.2866500</td><td>0.3538600</td><td>0.31910000</td><td>0.4845000</td><td>0.08010000</td><td>0.1826000</td><td>2015</td></tr>\n",
       "\t<tr><td>Togo       </td><td>158</td><td>2.839</td><td>0.2086800</td><td>0.1399500</td><td>0.28443000</td><td>0.3645300</td><td>0.10731000</td><td>0.1668100</td><td>2015</td></tr>\n",
       "\t<tr><td>Honduras   </td><td>104</td><td>4.871</td><td>0.6942900</td><td>0.7559600</td><td>0.58383000</td><td>0.2675500</td><td>0.06906000</td><td>0.2044000</td><td>2016</td></tr>\n",
       "\t<tr><td>Ivory Coast</td><td>139</td><td>3.916</td><td>0.5550700</td><td>0.5757600</td><td>0.04476000</td><td>0.4066300</td><td>0.15530000</td><td>0.2033800</td><td>2016</td></tr>\n",
       "\t<tr><td>Benin      </td><td>153</td><td>3.484</td><td>0.3949900</td><td>0.1041900</td><td>0.21028000</td><td>0.3974700</td><td>0.06681000</td><td>0.2018000</td><td>2016</td></tr>\n",
       "\t<tr><td>Togo       </td><td>155</td><td>3.303</td><td>0.2812300</td><td>0.0000000</td><td>0.24811000</td><td>0.3467800</td><td>0.11587000</td><td>0.1751700</td><td>2016</td></tr>\n",
       "\t<tr><td>Honduras   </td><td> 91</td><td>5.181</td><td>0.7305731</td><td>1.1439450</td><td>0.58256948</td><td>0.3480799</td><td>0.07334545</td><td>0.2361889</td><td>2017</td></tr>\n",
       "\t<tr><td>Ivory Coast</td><td>128</td><td>4.180</td><td>0.6030489</td><td>0.9047800</td><td>0.04864217</td><td>0.4477062</td><td>0.13006178</td><td>0.2012375</td><td>2017</td></tr>\n",
       "\t<tr><td>Benin      </td><td>143</td><td>3.657</td><td>0.4310854</td><td>0.4352998</td><td>0.20993021</td><td>0.4259628</td><td>0.06092902</td><td>0.2079485</td><td>2017</td></tr>\n",
       "\t<tr><td>Togo       </td><td>150</td><td>3.495</td><td>0.3054447</td><td>0.4318825</td><td>0.24710557</td><td>0.3804261</td><td>0.09566502</td><td>0.1968962</td><td>2017</td></tr>\n",
       "\t<tr><td>Honduras   </td><td> 72</td><td>5.504</td><td>0.6200000</td><td>1.2050000</td><td>0.62200000</td><td>0.4590000</td><td>0.07400000</td><td>0.1970000</td><td>2018</td></tr>\n",
       "\t<tr><td>Ivory Coast</td><td>107</td><td>4.671</td><td>0.5410000</td><td>0.8720000</td><td>0.08000000</td><td>0.4670000</td><td>0.10300000</td><td>0.1460000</td><td>2018</td></tr>\n",
       "\t<tr><td>Benin      </td><td>136</td><td>4.141</td><td>0.3780000</td><td>0.3720000</td><td>0.24000000</td><td>0.4400000</td><td>0.06700000</td><td>0.1630000</td><td>2018</td></tr>\n",
       "\t<tr><td>Togo       </td><td>139</td><td>3.999</td><td>0.2590000</td><td>0.4740000</td><td>0.25300000</td><td>0.4340000</td><td>0.10100000</td><td>0.1580000</td><td>2018</td></tr>\n",
       "\t<tr><td>Honduras   </td><td> 59</td><td>5.860</td><td>0.6420000</td><td>1.2360000</td><td>0.82800000</td><td>0.5070000</td><td>0.07800000</td><td>0.2460000</td><td>2019</td></tr>\n",
       "\t<tr><td>Ivory Coast</td><td> 99</td><td>4.944</td><td>0.5690000</td><td>0.8080000</td><td>0.23200000</td><td>0.3520000</td><td>0.09000000</td><td>0.1540000</td><td>2019</td></tr>\n",
       "\t<tr><td>Benin      </td><td>102</td><td>4.883</td><td>0.3930000</td><td>0.4370000</td><td>0.39700000</td><td>0.3490000</td><td>0.08200000</td><td>0.1750000</td><td>2019</td></tr>\n",
       "\t<tr><td>Togo       </td><td>139</td><td>4.085</td><td>0.2750000</td><td>0.5720000</td><td>0.41000000</td><td>0.2930000</td><td>0.08500000</td><td>0.1770000</td><td>2019</td></tr>\n",
       "</tbody>\n",
       "</table>\n"
      ],
      "text/latex": [
       "A data.frame: 20 × 10\n",
       "\\begin{tabular}{r|llllllllll}\n",
       " Country & Rank & Score & GDP\\_per\\_Capita & Family\\_Social\\_Support & Life\\_Expectancy & Freedom & Government\\_Corruption & Generosity & Year\\\\\n",
       " <chr> & <int> & <dbl> & <dbl> & <dbl> & <dbl> & <dbl> & <dbl> & <dbl> & <dbl>\\\\\n",
       "\\hline\n",
       "\t Honduras    & 105 & 4.788 & 0.5953200 & 0.9534800 & 0.69510000 & 0.4014800 & 0.06825000 & 0.2302700 & 2015\\\\\n",
       "\t Ivory Coast & 151 & 3.655 & 0.4653400 & 0.7711500 & 0.15185000 & 0.4686600 & 0.17922000 & 0.2016500 & 2015\\\\\n",
       "\t Benin       & 155 & 3.340 & 0.2866500 & 0.3538600 & 0.31910000 & 0.4845000 & 0.08010000 & 0.1826000 & 2015\\\\\n",
       "\t Togo        & 158 & 2.839 & 0.2086800 & 0.1399500 & 0.28443000 & 0.3645300 & 0.10731000 & 0.1668100 & 2015\\\\\n",
       "\t Honduras    & 104 & 4.871 & 0.6942900 & 0.7559600 & 0.58383000 & 0.2675500 & 0.06906000 & 0.2044000 & 2016\\\\\n",
       "\t Ivory Coast & 139 & 3.916 & 0.5550700 & 0.5757600 & 0.04476000 & 0.4066300 & 0.15530000 & 0.2033800 & 2016\\\\\n",
       "\t Benin       & 153 & 3.484 & 0.3949900 & 0.1041900 & 0.21028000 & 0.3974700 & 0.06681000 & 0.2018000 & 2016\\\\\n",
       "\t Togo        & 155 & 3.303 & 0.2812300 & 0.0000000 & 0.24811000 & 0.3467800 & 0.11587000 & 0.1751700 & 2016\\\\\n",
       "\t Honduras    &  91 & 5.181 & 0.7305731 & 1.1439450 & 0.58256948 & 0.3480799 & 0.07334545 & 0.2361889 & 2017\\\\\n",
       "\t Ivory Coast & 128 & 4.180 & 0.6030489 & 0.9047800 & 0.04864217 & 0.4477062 & 0.13006178 & 0.2012375 & 2017\\\\\n",
       "\t Benin       & 143 & 3.657 & 0.4310854 & 0.4352998 & 0.20993021 & 0.4259628 & 0.06092902 & 0.2079485 & 2017\\\\\n",
       "\t Togo        & 150 & 3.495 & 0.3054447 & 0.4318825 & 0.24710557 & 0.3804261 & 0.09566502 & 0.1968962 & 2017\\\\\n",
       "\t Honduras    &  72 & 5.504 & 0.6200000 & 1.2050000 & 0.62200000 & 0.4590000 & 0.07400000 & 0.1970000 & 2018\\\\\n",
       "\t Ivory Coast & 107 & 4.671 & 0.5410000 & 0.8720000 & 0.08000000 & 0.4670000 & 0.10300000 & 0.1460000 & 2018\\\\\n",
       "\t Benin       & 136 & 4.141 & 0.3780000 & 0.3720000 & 0.24000000 & 0.4400000 & 0.06700000 & 0.1630000 & 2018\\\\\n",
       "\t Togo        & 139 & 3.999 & 0.2590000 & 0.4740000 & 0.25300000 & 0.4340000 & 0.10100000 & 0.1580000 & 2018\\\\\n",
       "\t Honduras    &  59 & 5.860 & 0.6420000 & 1.2360000 & 0.82800000 & 0.5070000 & 0.07800000 & 0.2460000 & 2019\\\\\n",
       "\t Ivory Coast &  99 & 4.944 & 0.5690000 & 0.8080000 & 0.23200000 & 0.3520000 & 0.09000000 & 0.1540000 & 2019\\\\\n",
       "\t Benin       & 102 & 4.883 & 0.3930000 & 0.4370000 & 0.39700000 & 0.3490000 & 0.08200000 & 0.1750000 & 2019\\\\\n",
       "\t Togo        & 139 & 4.085 & 0.2750000 & 0.5720000 & 0.41000000 & 0.2930000 & 0.08500000 & 0.1770000 & 2019\\\\\n",
       "\\end{tabular}\n"
      ],
      "text/markdown": [
       "\n",
       "A data.frame: 20 × 10\n",
       "\n",
       "| Country &lt;chr&gt; | Rank &lt;int&gt; | Score &lt;dbl&gt; | GDP_per_Capita &lt;dbl&gt; | Family_Social_Support &lt;dbl&gt; | Life_Expectancy &lt;dbl&gt; | Freedom &lt;dbl&gt; | Government_Corruption &lt;dbl&gt; | Generosity &lt;dbl&gt; | Year &lt;dbl&gt; |\n",
       "|---|---|---|---|---|---|---|---|---|---|\n",
       "| Honduras    | 105 | 4.788 | 0.5953200 | 0.9534800 | 0.69510000 | 0.4014800 | 0.06825000 | 0.2302700 | 2015 |\n",
       "| Ivory Coast | 151 | 3.655 | 0.4653400 | 0.7711500 | 0.15185000 | 0.4686600 | 0.17922000 | 0.2016500 | 2015 |\n",
       "| Benin       | 155 | 3.340 | 0.2866500 | 0.3538600 | 0.31910000 | 0.4845000 | 0.08010000 | 0.1826000 | 2015 |\n",
       "| Togo        | 158 | 2.839 | 0.2086800 | 0.1399500 | 0.28443000 | 0.3645300 | 0.10731000 | 0.1668100 | 2015 |\n",
       "| Honduras    | 104 | 4.871 | 0.6942900 | 0.7559600 | 0.58383000 | 0.2675500 | 0.06906000 | 0.2044000 | 2016 |\n",
       "| Ivory Coast | 139 | 3.916 | 0.5550700 | 0.5757600 | 0.04476000 | 0.4066300 | 0.15530000 | 0.2033800 | 2016 |\n",
       "| Benin       | 153 | 3.484 | 0.3949900 | 0.1041900 | 0.21028000 | 0.3974700 | 0.06681000 | 0.2018000 | 2016 |\n",
       "| Togo        | 155 | 3.303 | 0.2812300 | 0.0000000 | 0.24811000 | 0.3467800 | 0.11587000 | 0.1751700 | 2016 |\n",
       "| Honduras    |  91 | 5.181 | 0.7305731 | 1.1439450 | 0.58256948 | 0.3480799 | 0.07334545 | 0.2361889 | 2017 |\n",
       "| Ivory Coast | 128 | 4.180 | 0.6030489 | 0.9047800 | 0.04864217 | 0.4477062 | 0.13006178 | 0.2012375 | 2017 |\n",
       "| Benin       | 143 | 3.657 | 0.4310854 | 0.4352998 | 0.20993021 | 0.4259628 | 0.06092902 | 0.2079485 | 2017 |\n",
       "| Togo        | 150 | 3.495 | 0.3054447 | 0.4318825 | 0.24710557 | 0.3804261 | 0.09566502 | 0.1968962 | 2017 |\n",
       "| Honduras    |  72 | 5.504 | 0.6200000 | 1.2050000 | 0.62200000 | 0.4590000 | 0.07400000 | 0.1970000 | 2018 |\n",
       "| Ivory Coast | 107 | 4.671 | 0.5410000 | 0.8720000 | 0.08000000 | 0.4670000 | 0.10300000 | 0.1460000 | 2018 |\n",
       "| Benin       | 136 | 4.141 | 0.3780000 | 0.3720000 | 0.24000000 | 0.4400000 | 0.06700000 | 0.1630000 | 2018 |\n",
       "| Togo        | 139 | 3.999 | 0.2590000 | 0.4740000 | 0.25300000 | 0.4340000 | 0.10100000 | 0.1580000 | 2018 |\n",
       "| Honduras    |  59 | 5.860 | 0.6420000 | 1.2360000 | 0.82800000 | 0.5070000 | 0.07800000 | 0.2460000 | 2019 |\n",
       "| Ivory Coast |  99 | 4.944 | 0.5690000 | 0.8080000 | 0.23200000 | 0.3520000 | 0.09000000 | 0.1540000 | 2019 |\n",
       "| Benin       | 102 | 4.883 | 0.3930000 | 0.4370000 | 0.39700000 | 0.3490000 | 0.08200000 | 0.1750000 | 2019 |\n",
       "| Togo        | 139 | 4.085 | 0.2750000 | 0.5720000 | 0.41000000 | 0.2930000 | 0.08500000 | 0.1770000 | 2019 |\n",
       "\n"
      ],
      "text/plain": [
       "   Country     Rank Score GDP_per_Capita Family_Social_Support Life_Expectancy\n",
       "1  Honduras    105  4.788 0.5953200      0.9534800             0.69510000     \n",
       "2  Ivory Coast 151  3.655 0.4653400      0.7711500             0.15185000     \n",
       "3  Benin       155  3.340 0.2866500      0.3538600             0.31910000     \n",
       "4  Togo        158  2.839 0.2086800      0.1399500             0.28443000     \n",
       "5  Honduras    104  4.871 0.6942900      0.7559600             0.58383000     \n",
       "6  Ivory Coast 139  3.916 0.5550700      0.5757600             0.04476000     \n",
       "7  Benin       153  3.484 0.3949900      0.1041900             0.21028000     \n",
       "8  Togo        155  3.303 0.2812300      0.0000000             0.24811000     \n",
       "9  Honduras     91  5.181 0.7305731      1.1439450             0.58256948     \n",
       "10 Ivory Coast 128  4.180 0.6030489      0.9047800             0.04864217     \n",
       "11 Benin       143  3.657 0.4310854      0.4352998             0.20993021     \n",
       "12 Togo        150  3.495 0.3054447      0.4318825             0.24710557     \n",
       "13 Honduras     72  5.504 0.6200000      1.2050000             0.62200000     \n",
       "14 Ivory Coast 107  4.671 0.5410000      0.8720000             0.08000000     \n",
       "15 Benin       136  4.141 0.3780000      0.3720000             0.24000000     \n",
       "16 Togo        139  3.999 0.2590000      0.4740000             0.25300000     \n",
       "17 Honduras     59  5.860 0.6420000      1.2360000             0.82800000     \n",
       "18 Ivory Coast  99  4.944 0.5690000      0.8080000             0.23200000     \n",
       "19 Benin       102  4.883 0.3930000      0.4370000             0.39700000     \n",
       "20 Togo        139  4.085 0.2750000      0.5720000             0.41000000     \n",
       "   Freedom   Government_Corruption Generosity Year\n",
       "1  0.4014800 0.06825000            0.2302700  2015\n",
       "2  0.4686600 0.17922000            0.2016500  2015\n",
       "3  0.4845000 0.08010000            0.1826000  2015\n",
       "4  0.3645300 0.10731000            0.1668100  2015\n",
       "5  0.2675500 0.06906000            0.2044000  2016\n",
       "6  0.4066300 0.15530000            0.2033800  2016\n",
       "7  0.3974700 0.06681000            0.2018000  2016\n",
       "8  0.3467800 0.11587000            0.1751700  2016\n",
       "9  0.3480799 0.07334545            0.2361889  2017\n",
       "10 0.4477062 0.13006178            0.2012375  2017\n",
       "11 0.4259628 0.06092902            0.2079485  2017\n",
       "12 0.3804261 0.09566502            0.1968962  2017\n",
       "13 0.4590000 0.07400000            0.1970000  2018\n",
       "14 0.4670000 0.10300000            0.1460000  2018\n",
       "15 0.4400000 0.06700000            0.1630000  2018\n",
       "16 0.4340000 0.10100000            0.1580000  2018\n",
       "17 0.5070000 0.07800000            0.2460000  2019\n",
       "18 0.3520000 0.09000000            0.1540000  2019\n",
       "19 0.3490000 0.08200000            0.1750000  2019\n",
       "20 0.2930000 0.08500000            0.1770000  2019"
      ]
     },
     "metadata": {},
     "output_type": "display_data"
    },
    {
     "data": {
      "text/html": [
       "<table>\n",
       "<caption>A data.frame: 19 × 10</caption>\n",
       "<thead>\n",
       "\t<tr><th scope=col>Country</th><th scope=col>Rank</th><th scope=col>Score</th><th scope=col>GDP_per_Capita</th><th scope=col>Family_Social_Support</th><th scope=col>Life_Expectancy</th><th scope=col>Freedom</th><th scope=col>Government_Corruption</th><th scope=col>Generosity</th><th scope=col>Year</th></tr>\n",
       "\t<tr><th scope=col>&lt;chr&gt;</th><th scope=col>&lt;int&gt;</th><th scope=col>&lt;dbl&gt;</th><th scope=col>&lt;dbl&gt;</th><th scope=col>&lt;dbl&gt;</th><th scope=col>&lt;dbl&gt;</th><th scope=col>&lt;dbl&gt;</th><th scope=col>&lt;dbl&gt;</th><th scope=col>&lt;dbl&gt;</th><th scope=col>&lt;dbl&gt;</th></tr>\n",
       "</thead>\n",
       "<tbody>\n",
       "\t<tr><td>Venezuela  </td><td> 23</td><td>6.810</td><td>1.0442400</td><td>1.2559600</td><td>0.7205200</td><td>0.4290800</td><td>0.11069000</td><td>0.05841000</td><td>2015</td></tr>\n",
       "\t<tr><td>Zambia     </td><td> 85</td><td>5.129</td><td>0.4703800</td><td>0.9161200</td><td>0.2992400</td><td>0.4882700</td><td>0.12468000</td><td>0.19591000</td><td>2015</td></tr>\n",
       "\t<tr><td>Lesotho    </td><td> 97</td><td>4.898</td><td>0.3754500</td><td>1.0410300</td><td>0.0761200</td><td>0.3176700</td><td>0.12504000</td><td>0.16388000</td><td>2015</td></tr>\n",
       "\t<tr><td>South Sudan</td><td>118</td><td>4.550</td><td>0.5210700</td><td>1.0140400</td><td>0.3687800</td><td>0.1008100</td><td>0.14660000</td><td>0.19062000</td><td>2015</td></tr>\n",
       "\t<tr><td>Venezuela  </td><td> 44</td><td>6.084</td><td>1.1336700</td><td>1.0330200</td><td>0.6190400</td><td>0.1984700</td><td>0.08304000</td><td>0.04250000</td><td>2016</td></tr>\n",
       "\t<tr><td>Zambia     </td><td>106</td><td>4.795</td><td>0.6120200</td><td>0.6376000</td><td>0.2357300</td><td>0.4266200</td><td>0.11479000</td><td>0.17866000</td><td>2016</td></tr>\n",
       "\t<tr><td>South Sudan</td><td>143</td><td>3.832</td><td>0.3939400</td><td>0.1851900</td><td>0.1578100</td><td>0.1966200</td><td>0.13015000</td><td>0.25899000</td><td>2016</td></tr>\n",
       "\t<tr><td>Venezuela  </td><td> 82</td><td>5.250</td><td>1.1284312</td><td>1.4313376</td><td>0.6171442</td><td>0.1539971</td><td>0.06449112</td><td>0.06501963</td><td>2017</td></tr>\n",
       "\t<tr><td>Zambia     </td><td>116</td><td>4.514</td><td>0.6364068</td><td>1.0031873</td><td>0.2578359</td><td>0.4616035</td><td>0.07821355</td><td>0.24958014</td><td>2017</td></tr>\n",
       "\t<tr><td>Lesotho    </td><td>139</td><td>3.808</td><td>0.5210212</td><td>1.1900952</td><td>0.0000000</td><td>0.3906613</td><td>0.11909464</td><td>0.15749727</td><td>2017</td></tr>\n",
       "\t<tr><td>South Sudan</td><td>147</td><td>3.591</td><td>0.3972486</td><td>0.6013231</td><td>0.1634860</td><td>0.1470624</td><td>0.11679351</td><td>0.28567082</td><td>2017</td></tr>\n",
       "\t<tr><td>Venezuela  </td><td>102</td><td>4.806</td><td>0.9960000</td><td>1.4690000</td><td>0.6570000</td><td>0.1330000</td><td>0.05200000</td><td>0.05600000</td><td>2018</td></tr>\n",
       "\t<tr><td>Zambia     </td><td>125</td><td>4.377</td><td>0.5620000</td><td>1.0470000</td><td>0.2950000</td><td>0.5030000</td><td>0.08200000</td><td>0.22100000</td><td>2018</td></tr>\n",
       "\t<tr><td>Lesotho    </td><td>141</td><td>3.808</td><td>0.4720000</td><td>1.2150000</td><td>0.0790000</td><td>0.4230000</td><td>0.11200000</td><td>0.11600000</td><td>2018</td></tr>\n",
       "\t<tr><td>South Sudan</td><td>154</td><td>3.254</td><td>0.3370000</td><td>0.6080000</td><td>0.1770000</td><td>0.1120000</td><td>0.10600000</td><td>0.22400000</td><td>2018</td></tr>\n",
       "\t<tr><td>Venezuela  </td><td>108</td><td>4.707</td><td>0.9600000</td><td>1.4270000</td><td>0.8050000</td><td>0.1540000</td><td>0.04700000</td><td>0.06400000</td><td>2019</td></tr>\n",
       "\t<tr><td>Zambia     </td><td>138</td><td>4.107</td><td>0.5780000</td><td>1.0580000</td><td>0.4260000</td><td>0.4310000</td><td>0.08700000</td><td>0.24700000</td><td>2019</td></tr>\n",
       "\t<tr><td>Lesotho    </td><td>144</td><td>3.802</td><td>0.4890000</td><td>1.1690000</td><td>0.1680000</td><td>0.3590000</td><td>0.09300000</td><td>0.10700000</td><td>2019</td></tr>\n",
       "\t<tr><td>South Sudan</td><td>156</td><td>2.853</td><td>0.3060000</td><td>0.5750000</td><td>0.2950000</td><td>0.0100000</td><td>0.09100000</td><td>0.20200000</td><td>2019</td></tr>\n",
       "</tbody>\n",
       "</table>\n"
      ],
      "text/latex": [
       "A data.frame: 19 × 10\n",
       "\\begin{tabular}{r|llllllllll}\n",
       " Country & Rank & Score & GDP\\_per\\_Capita & Family\\_Social\\_Support & Life\\_Expectancy & Freedom & Government\\_Corruption & Generosity & Year\\\\\n",
       " <chr> & <int> & <dbl> & <dbl> & <dbl> & <dbl> & <dbl> & <dbl> & <dbl> & <dbl>\\\\\n",
       "\\hline\n",
       "\t Venezuela   &  23 & 6.810 & 1.0442400 & 1.2559600 & 0.7205200 & 0.4290800 & 0.11069000 & 0.05841000 & 2015\\\\\n",
       "\t Zambia      &  85 & 5.129 & 0.4703800 & 0.9161200 & 0.2992400 & 0.4882700 & 0.12468000 & 0.19591000 & 2015\\\\\n",
       "\t Lesotho     &  97 & 4.898 & 0.3754500 & 1.0410300 & 0.0761200 & 0.3176700 & 0.12504000 & 0.16388000 & 2015\\\\\n",
       "\t South Sudan & 118 & 4.550 & 0.5210700 & 1.0140400 & 0.3687800 & 0.1008100 & 0.14660000 & 0.19062000 & 2015\\\\\n",
       "\t Venezuela   &  44 & 6.084 & 1.1336700 & 1.0330200 & 0.6190400 & 0.1984700 & 0.08304000 & 0.04250000 & 2016\\\\\n",
       "\t Zambia      & 106 & 4.795 & 0.6120200 & 0.6376000 & 0.2357300 & 0.4266200 & 0.11479000 & 0.17866000 & 2016\\\\\n",
       "\t South Sudan & 143 & 3.832 & 0.3939400 & 0.1851900 & 0.1578100 & 0.1966200 & 0.13015000 & 0.25899000 & 2016\\\\\n",
       "\t Venezuela   &  82 & 5.250 & 1.1284312 & 1.4313376 & 0.6171442 & 0.1539971 & 0.06449112 & 0.06501963 & 2017\\\\\n",
       "\t Zambia      & 116 & 4.514 & 0.6364068 & 1.0031873 & 0.2578359 & 0.4616035 & 0.07821355 & 0.24958014 & 2017\\\\\n",
       "\t Lesotho     & 139 & 3.808 & 0.5210212 & 1.1900952 & 0.0000000 & 0.3906613 & 0.11909464 & 0.15749727 & 2017\\\\\n",
       "\t South Sudan & 147 & 3.591 & 0.3972486 & 0.6013231 & 0.1634860 & 0.1470624 & 0.11679351 & 0.28567082 & 2017\\\\\n",
       "\t Venezuela   & 102 & 4.806 & 0.9960000 & 1.4690000 & 0.6570000 & 0.1330000 & 0.05200000 & 0.05600000 & 2018\\\\\n",
       "\t Zambia      & 125 & 4.377 & 0.5620000 & 1.0470000 & 0.2950000 & 0.5030000 & 0.08200000 & 0.22100000 & 2018\\\\\n",
       "\t Lesotho     & 141 & 3.808 & 0.4720000 & 1.2150000 & 0.0790000 & 0.4230000 & 0.11200000 & 0.11600000 & 2018\\\\\n",
       "\t South Sudan & 154 & 3.254 & 0.3370000 & 0.6080000 & 0.1770000 & 0.1120000 & 0.10600000 & 0.22400000 & 2018\\\\\n",
       "\t Venezuela   & 108 & 4.707 & 0.9600000 & 1.4270000 & 0.8050000 & 0.1540000 & 0.04700000 & 0.06400000 & 2019\\\\\n",
       "\t Zambia      & 138 & 4.107 & 0.5780000 & 1.0580000 & 0.4260000 & 0.4310000 & 0.08700000 & 0.24700000 & 2019\\\\\n",
       "\t Lesotho     & 144 & 3.802 & 0.4890000 & 1.1690000 & 0.1680000 & 0.3590000 & 0.09300000 & 0.10700000 & 2019\\\\\n",
       "\t South Sudan & 156 & 2.853 & 0.3060000 & 0.5750000 & 0.2950000 & 0.0100000 & 0.09100000 & 0.20200000 & 2019\\\\\n",
       "\\end{tabular}\n"
      ],
      "text/markdown": [
       "\n",
       "A data.frame: 19 × 10\n",
       "\n",
       "| Country &lt;chr&gt; | Rank &lt;int&gt; | Score &lt;dbl&gt; | GDP_per_Capita &lt;dbl&gt; | Family_Social_Support &lt;dbl&gt; | Life_Expectancy &lt;dbl&gt; | Freedom &lt;dbl&gt; | Government_Corruption &lt;dbl&gt; | Generosity &lt;dbl&gt; | Year &lt;dbl&gt; |\n",
       "|---|---|---|---|---|---|---|---|---|---|\n",
       "| Venezuela   |  23 | 6.810 | 1.0442400 | 1.2559600 | 0.7205200 | 0.4290800 | 0.11069000 | 0.05841000 | 2015 |\n",
       "| Zambia      |  85 | 5.129 | 0.4703800 | 0.9161200 | 0.2992400 | 0.4882700 | 0.12468000 | 0.19591000 | 2015 |\n",
       "| Lesotho     |  97 | 4.898 | 0.3754500 | 1.0410300 | 0.0761200 | 0.3176700 | 0.12504000 | 0.16388000 | 2015 |\n",
       "| South Sudan | 118 | 4.550 | 0.5210700 | 1.0140400 | 0.3687800 | 0.1008100 | 0.14660000 | 0.19062000 | 2015 |\n",
       "| Venezuela   |  44 | 6.084 | 1.1336700 | 1.0330200 | 0.6190400 | 0.1984700 | 0.08304000 | 0.04250000 | 2016 |\n",
       "| Zambia      | 106 | 4.795 | 0.6120200 | 0.6376000 | 0.2357300 | 0.4266200 | 0.11479000 | 0.17866000 | 2016 |\n",
       "| South Sudan | 143 | 3.832 | 0.3939400 | 0.1851900 | 0.1578100 | 0.1966200 | 0.13015000 | 0.25899000 | 2016 |\n",
       "| Venezuela   |  82 | 5.250 | 1.1284312 | 1.4313376 | 0.6171442 | 0.1539971 | 0.06449112 | 0.06501963 | 2017 |\n",
       "| Zambia      | 116 | 4.514 | 0.6364068 | 1.0031873 | 0.2578359 | 0.4616035 | 0.07821355 | 0.24958014 | 2017 |\n",
       "| Lesotho     | 139 | 3.808 | 0.5210212 | 1.1900952 | 0.0000000 | 0.3906613 | 0.11909464 | 0.15749727 | 2017 |\n",
       "| South Sudan | 147 | 3.591 | 0.3972486 | 0.6013231 | 0.1634860 | 0.1470624 | 0.11679351 | 0.28567082 | 2017 |\n",
       "| Venezuela   | 102 | 4.806 | 0.9960000 | 1.4690000 | 0.6570000 | 0.1330000 | 0.05200000 | 0.05600000 | 2018 |\n",
       "| Zambia      | 125 | 4.377 | 0.5620000 | 1.0470000 | 0.2950000 | 0.5030000 | 0.08200000 | 0.22100000 | 2018 |\n",
       "| Lesotho     | 141 | 3.808 | 0.4720000 | 1.2150000 | 0.0790000 | 0.4230000 | 0.11200000 | 0.11600000 | 2018 |\n",
       "| South Sudan | 154 | 3.254 | 0.3370000 | 0.6080000 | 0.1770000 | 0.1120000 | 0.10600000 | 0.22400000 | 2018 |\n",
       "| Venezuela   | 108 | 4.707 | 0.9600000 | 1.4270000 | 0.8050000 | 0.1540000 | 0.04700000 | 0.06400000 | 2019 |\n",
       "| Zambia      | 138 | 4.107 | 0.5780000 | 1.0580000 | 0.4260000 | 0.4310000 | 0.08700000 | 0.24700000 | 2019 |\n",
       "| Lesotho     | 144 | 3.802 | 0.4890000 | 1.1690000 | 0.1680000 | 0.3590000 | 0.09300000 | 0.10700000 | 2019 |\n",
       "| South Sudan | 156 | 2.853 | 0.3060000 | 0.5750000 | 0.2950000 | 0.0100000 | 0.09100000 | 0.20200000 | 2019 |\n",
       "\n"
      ],
      "text/plain": [
       "   Country     Rank Score GDP_per_Capita Family_Social_Support Life_Expectancy\n",
       "1  Venezuela    23  6.810 1.0442400      1.2559600             0.7205200      \n",
       "2  Zambia       85  5.129 0.4703800      0.9161200             0.2992400      \n",
       "3  Lesotho      97  4.898 0.3754500      1.0410300             0.0761200      \n",
       "4  South Sudan 118  4.550 0.5210700      1.0140400             0.3687800      \n",
       "5  Venezuela    44  6.084 1.1336700      1.0330200             0.6190400      \n",
       "6  Zambia      106  4.795 0.6120200      0.6376000             0.2357300      \n",
       "7  South Sudan 143  3.832 0.3939400      0.1851900             0.1578100      \n",
       "8  Venezuela    82  5.250 1.1284312      1.4313376             0.6171442      \n",
       "9  Zambia      116  4.514 0.6364068      1.0031873             0.2578359      \n",
       "10 Lesotho     139  3.808 0.5210212      1.1900952             0.0000000      \n",
       "11 South Sudan 147  3.591 0.3972486      0.6013231             0.1634860      \n",
       "12 Venezuela   102  4.806 0.9960000      1.4690000             0.6570000      \n",
       "13 Zambia      125  4.377 0.5620000      1.0470000             0.2950000      \n",
       "14 Lesotho     141  3.808 0.4720000      1.2150000             0.0790000      \n",
       "15 South Sudan 154  3.254 0.3370000      0.6080000             0.1770000      \n",
       "16 Venezuela   108  4.707 0.9600000      1.4270000             0.8050000      \n",
       "17 Zambia      138  4.107 0.5780000      1.0580000             0.4260000      \n",
       "18 Lesotho     144  3.802 0.4890000      1.1690000             0.1680000      \n",
       "19 South Sudan 156  2.853 0.3060000      0.5750000             0.2950000      \n",
       "   Freedom   Government_Corruption Generosity Year\n",
       "1  0.4290800 0.11069000            0.05841000 2015\n",
       "2  0.4882700 0.12468000            0.19591000 2015\n",
       "3  0.3176700 0.12504000            0.16388000 2015\n",
       "4  0.1008100 0.14660000            0.19062000 2015\n",
       "5  0.1984700 0.08304000            0.04250000 2016\n",
       "6  0.4266200 0.11479000            0.17866000 2016\n",
       "7  0.1966200 0.13015000            0.25899000 2016\n",
       "8  0.1539971 0.06449112            0.06501963 2017\n",
       "9  0.4616035 0.07821355            0.24958014 2017\n",
       "10 0.3906613 0.11909464            0.15749727 2017\n",
       "11 0.1470624 0.11679351            0.28567082 2017\n",
       "12 0.1330000 0.05200000            0.05600000 2018\n",
       "13 0.5030000 0.08200000            0.22100000 2018\n",
       "14 0.4230000 0.11200000            0.11600000 2018\n",
       "15 0.1120000 0.10600000            0.22400000 2018\n",
       "16 0.1540000 0.04700000            0.06400000 2019\n",
       "17 0.4310000 0.08700000            0.24700000 2019\n",
       "18 0.3590000 0.09300000            0.10700000 2019\n",
       "19 0.0100000 0.09100000            0.20200000 2019"
      ]
     },
     "metadata": {},
     "output_type": "display_data"
    }
   ],
   "source": [
    "# Identifying countries with biggest increases and decreases for closer examination\n",
    "\n",
    "increase_countries <- filter(df_change, Score_Change > 1) %>% select(Country)\n",
    "increase_countries <- unname(unlist(increase_countries))\n",
    "\n",
    "df_increase <- rbind(filter(df_2015, Country %in% increase_countries), \n",
    "                     filter(df_2016, Country %in% increase_countries),\n",
    "                     filter(df_2017, Country %in% increase_countries),\n",
    "                     filter(df_2018, Country %in% increase_countries),\n",
    "                     filter(df_2019, Country %in% increase_countries))\n",
    "\n",
    "df_increase$Government_Corruption <- as.double(df_increase$Government_Corruption)\n",
    "\n",
    "df_increase\n",
    "\n",
    "decrease_countries <- filter(df_change, Score_Change < -1) %>%\n",
    "    select(Country)\n",
    "decrease_countries <- unname(unlist(decrease_countries))\n",
    "\n",
    "df_decrease <- rbind(filter(df_2015, Country %in% decrease_countries), \n",
    "                     filter(df_2016, Country %in% decrease_countries),\n",
    "                     filter(df_2017, Country %in% decrease_countries),\n",
    "                     filter(df_2018, Country %in% decrease_countries),\n",
    "                     filter(df_2019, Country %in% decrease_countries))\n",
    "\n",
    "df_decrease$Government_Corruption <- as.double(df_decrease$Government_Corruption)\n",
    "\n",
    "df_decrease\n"
   ]
  },
  {
   "cell_type": "code",
   "execution_count": null,
   "metadata": {},
   "outputs": [],
   "source": []
  },
  {
   "cell_type": "code",
   "execution_count": 13,
   "metadata": {},
   "outputs": [
    {
     "name": "stderr",
     "output_type": "stream",
     "text": [
      "Warning message:\n",
      "“Ignoring unknown aesthetics: x, y”"
     ]
    },
    {
     "data": {
      "text/html": [
       "<strong>png:</strong> 2"
      ],
      "text/latex": [
       "\\textbf{png:} 2"
      ],
      "text/markdown": [
       "**png:** 2"
      ],
      "text/plain": [
       "png \n",
       "  2 "
      ]
     },
     "metadata": {},
     "output_type": "display_data"
    }
   ],
   "source": [
    "# Create your visualizations and save them as png files, then prepare your final pdf document elsewhere\n",
    "library(ggmap)\n",
    "\n",
    "world_map <- map_data(\"world\") # world map data\n",
    "\n",
    "# Base layer map showing all countries in map_data(\"world\")\n",
    "png(filename=\"base.png\")\n",
    "\n",
    "ggplot() + \n",
    "    geom_map(data=world_map, map=world_map, aes(long, lat, map_id=region), color=\"white\", fill=\"gray\", size=0.1) +\n",
    "    coord_equal() +\n",
    "    theme_void()\n",
    "\n",
    "dev.off()"
   ]
  },
  {
   "cell_type": "code",
   "execution_count": 38,
   "metadata": {},
   "outputs": [
    {
     "name": "stderr",
     "output_type": "stream",
     "text": [
      "Coordinate system already present. Adding new coordinate system, which will replace the existing one.\n"
     ]
    },
    {
     "data": {
      "text/html": [
       "<strong>png:</strong> 2"
      ],
      "text/latex": [
       "\\textbf{png:} 2"
      ],
      "text/markdown": [
       "**png:** 2"
      ],
      "text/plain": [
       "png \n",
       "  2 "
      ]
     },
     "metadata": {},
     "output_type": "display_data"
    }
   ],
   "source": [
    "# Chloropleth for 2015 Score\n",
    "# Choose not to combine all years with facet_wrap() in order to have more control over final layout\n",
    "\n",
    "png(filename=\"p2015.png\")\n",
    "\n",
    "ggplot(data=df_2015, aes(fill=Score)) +\n",
    "    geom_map(map=world_map, aes(map_id=Country, fill=Score), color='white',size = 0.25) +\n",
    "    coord_map(\"polyconic\") +\n",
    "    theme_void() +\n",
    "    expand_limits(x = world_map$long, y = world_map$lat) +\n",
    "    coord_fixed() +\n",
    "    scale_fill_continuous(low='darkblue', high='orange1') +\n",
    "    labs(title = \"Happiness Scores 2015\",\n",
    "        caption = \"0 = lowest | 8 = highest\") +\n",
    "    theme(legend.position = \"bottom\")\n",
    "\n",
    "dev.off()\n"
   ]
  },
  {
   "cell_type": "code",
   "execution_count": 39,
   "metadata": {},
   "outputs": [
    {
     "name": "stderr",
     "output_type": "stream",
     "text": [
      "Coordinate system already present. Adding new coordinate system, which will replace the existing one.\n"
     ]
    },
    {
     "data": {
      "text/html": [
       "<strong>png:</strong> 2"
      ],
      "text/latex": [
       "\\textbf{png:} 2"
      ],
      "text/markdown": [
       "**png:** 2"
      ],
      "text/plain": [
       "png \n",
       "  2 "
      ]
     },
     "metadata": {},
     "output_type": "display_data"
    }
   ],
   "source": [
    "# Chloropleth for 2016 Score\n",
    "\n",
    "png(filename=\"p2016.png\")\n",
    "\n",
    "ggplot(data=df_2016, aes(fill=Score)) +\n",
    "    geom_map(map=world_map, aes(map_id=Country, fill=Score), color='white',size = 0.25) +\n",
    "    coord_map(\"polyconic\") +\n",
    "    theme_void() +\n",
    "    expand_limits(x = world_map$long, y = world_map$lat) +\n",
    "    coord_fixed() +\n",
    "    scale_fill_continuous(low='darkblue', high='orange1') +\n",
    "    labs(title = \"Happiness Scores 2016\",\n",
    "        caption = \"0 = lowest | 8 = highest\") +\n",
    "    theme(legend.position = \"bottom\")\n",
    "\n",
    "dev.off()\n"
   ]
  },
  {
   "cell_type": "code",
   "execution_count": 14,
   "metadata": {},
   "outputs": [
    {
     "name": "stderr",
     "output_type": "stream",
     "text": [
      "Coordinate system already present. Adding new coordinate system, which will replace the existing one.\n"
     ]
    },
    {
     "data": {
      "text/html": [
       "<strong>png:</strong> 2"
      ],
      "text/latex": [
       "\\textbf{png:} 2"
      ],
      "text/markdown": [
       "**png:** 2"
      ],
      "text/plain": [
       "png \n",
       "  2 "
      ]
     },
     "metadata": {},
     "output_type": "display_data"
    }
   ],
   "source": [
    "# Chloropleth for 2017 Score\n",
    "\n",
    "png(filename=\"p2017.png\")\n",
    "\n",
    "ggplot(data=df_2017, aes(fill=Score)) +\n",
    "    geom_map(map=world_map, aes(map_id=Country, fill=Score), color='white',size = 0.25) +\n",
    "    coord_map(\"polyconic\") +\n",
    "    theme_void() +\n",
    "    expand_limits(x = world_map$long, y = world_map$lat) +\n",
    "    coord_fixed() +\n",
    "    scale_fill_continuous(low='darkblue', high='orange1') +\n",
    "    labs(title = \"Happiness Scores 2017\",\n",
    "        caption = \"0 = lowest | 8 = highest\") +\n",
    "    theme(legend.position = \"bottom\")\n",
    "\n",
    "dev.off()\n"
   ]
  },
  {
   "cell_type": "code",
   "execution_count": 15,
   "metadata": {},
   "outputs": [
    {
     "name": "stderr",
     "output_type": "stream",
     "text": [
      "Coordinate system already present. Adding new coordinate system, which will replace the existing one.\n"
     ]
    },
    {
     "data": {
      "text/html": [
       "<strong>png:</strong> 2"
      ],
      "text/latex": [
       "\\textbf{png:} 2"
      ],
      "text/markdown": [
       "**png:** 2"
      ],
      "text/plain": [
       "png \n",
       "  2 "
      ]
     },
     "metadata": {},
     "output_type": "display_data"
    }
   ],
   "source": [
    "# Chloropleth for 2018 Score\n",
    "\n",
    "png(filename=\"p2018.png\")\n",
    "\n",
    "ggplot(data=df_2018, aes(fill=Score)) +\n",
    "    geom_map(map=world_map, aes(map_id=Country, fill=Score), color='white',size = 0.25) +\n",
    "    coord_map(\"polyconic\") +\n",
    "    theme_void() +\n",
    "    expand_limits(x = world_map$long, y = world_map$lat) +\n",
    "    coord_fixed() +\n",
    "    scale_fill_continuous(low='darkblue', high='orange1') +\n",
    "    labs(title = \"Happiness Scores 2018\",\n",
    "        caption = \"0 = lowest | 8 = highest\") +\n",
    "    theme(legend.position = \"bottom\")\n",
    "\n",
    "dev.off()\n"
   ]
  },
  {
   "cell_type": "code",
   "execution_count": 42,
   "metadata": {},
   "outputs": [
    {
     "name": "stderr",
     "output_type": "stream",
     "text": [
      "Coordinate system already present. Adding new coordinate system, which will replace the existing one.\n"
     ]
    },
    {
     "data": {
      "text/html": [
       "<strong>png:</strong> 2"
      ],
      "text/latex": [
       "\\textbf{png:} 2"
      ],
      "text/markdown": [
       "**png:** 2"
      ],
      "text/plain": [
       "png \n",
       "  2 "
      ]
     },
     "metadata": {},
     "output_type": "display_data"
    }
   ],
   "source": [
    "# Chloropleth for 2019 Score\n",
    "\n",
    "png(filename=\"p2019.png\")\n",
    "\n",
    "ggplot(data=df_2019, aes(fill=Score)) +\n",
    "    geom_map(map=world_map, aes(map_id=Country, fill=Score), color='white',size = 0.25) +\n",
    "    coord_map(\"polyconic\") +\n",
    "    theme_void() +\n",
    "    expand_limits(x = world_map$long, y = world_map$lat) +\n",
    "    coord_fixed() +\n",
    "    scale_fill_continuous(low='darkblue', high='orange1') +\n",
    "    labs(title = \"Happiness Scores 2019\",\n",
    "        caption = \"0 = lowest | 8 = highest\") +\n",
    "    theme(legend.position = \"bottom\")\n",
    "\n",
    "dev.off()\n"
   ]
  },
  {
   "cell_type": "code",
   "execution_count": 60,
   "metadata": {},
   "outputs": [
    {
     "name": "stderr",
     "output_type": "stream",
     "text": [
      "Coordinate system already present. Adding new coordinate system, which will replace the existing one.\n"
     ]
    },
    {
     "data": {
      "image/png": "[encoded data removed]",
      "text/plain": [
       "plot without title"
      ]
     },
     "metadata": {},
     "output_type": "display_data"
    }
   ],
   "source": [
    "# Chloropleth showing change in score 2015 to 2019\n",
    "\n",
    "png(filename=\"pchange.png\")\n",
    "\n",
    "ggplot(data=df_change, aes(fill=Score_Change)) +\n",
    "    geom_map(map=world_map, aes(map_id=Country, fill=Score_Change), color=\"white\", size = 0.25) +\n",
    "    coord_map(\"polyconic\") +\n",
    "    theme_void() +\n",
    "    expand_limits(x = world_map$long, y = world_map$lat) +\n",
    "    coord_fixed() +\n",
    "    scale_fill_continuous(low='darkblue', high='orange1') +\n",
    "    labs(title = \"Change in Happiness Score 2015-2019\") +\n",
    "    theme(legend.position = \"bottom\",\n",
    "         legend.title = element_blank())\n",
    "\n",
    "dev.off()\n"
   ]
  },
  {
   "cell_type": "code",
   "execution_count": 37,
   "metadata": {},
   "outputs": [
    {
     "data": {
      "text/html": [
       "<strong>png:</strong> 2"
      ],
      "text/latex": [
       "\\textbf{png:} 2"
      ],
      "text/markdown": [
       "**png:** 2"
      ],
      "text/plain": [
       "png \n",
       "  2 "
      ]
     },
     "metadata": {},
     "output_type": "display_data"
    },
    {
     "data": {
      "text/html": [
       "<strong>png:</strong> 2"
      ],
      "text/latex": [
       "\\textbf{png:} 2"
      ],
      "text/markdown": [
       "**png:** 2"
      ],
      "text/plain": [
       "png \n",
       "  2 "
      ]
     },
     "metadata": {},
     "output_type": "display_data"
    },
    {
     "data": {
      "text/html": [
       "<strong>png:</strong> 2"
      ],
      "text/latex": [
       "\\textbf{png:} 2"
      ],
      "text/markdown": [
       "**png:** 2"
      ],
      "text/plain": [
       "png \n",
       "  2 "
      ]
     },
     "metadata": {},
     "output_type": "display_data"
    },
    {
     "data": {
      "text/html": [
       "<strong>png:</strong> 2"
      ],
      "text/latex": [
       "\\textbf{png:} 2"
      ],
      "text/markdown": [
       "**png:** 2"
      ],
      "text/plain": [
       "png \n",
       "  2 "
      ]
     },
     "metadata": {},
     "output_type": "display_data"
    },
    {
     "data": {
      "text/html": [
       "<strong>png:</strong> 2"
      ],
      "text/latex": [
       "\\textbf{png:} 2"
      ],
      "text/markdown": [
       "**png:** 2"
      ],
      "text/plain": [
       "png \n",
       "  2 "
      ]
     },
     "metadata": {},
     "output_type": "display_data"
    },
    {
     "data": {
      "text/html": [
       "<strong>png:</strong> 2"
      ],
      "text/latex": [
       "\\textbf{png:} 2"
      ],
      "text/markdown": [
       "**png:** 2"
      ],
      "text/plain": [
       "png \n",
       "  2 "
      ]
     },
     "metadata": {},
     "output_type": "display_data"
    }
   ],
   "source": [
    "# Line graphs tracking changes in countries with biggest increases\n",
    "\n",
    "# GDP\n",
    "png(filename=\"GDP_increase.png\")\n",
    "\n",
    "ggplot(data=df_increase, aes(x=Year, y=GDP_per_Capita, colour=Country)) +geom_point() +\n",
    "    geom_line() +\n",
    "    theme_minimal() +\n",
    "    scale_color_manual(values = c(\"pink3\", \"orange1\", \"orange3\", \"pink4\")) +\n",
    "    labs(title = \"Economics Score\",\n",
    "        subtitle = \"Based on GDP\") +\n",
    "    xlab(NULL) +\n",
    "    ylab(NULL) +\n",
    "    scale_y_continuous(breaks=seq(0.0,1.5,0.25)) +\n",
    "    expand_limits(y = 0)\n",
    "\n",
    "dev.off()\n",
    "\n",
    "# Family/Social Support\n",
    "png(filename=\"social_increase.png\")\n",
    "\n",
    "ggplot(data=df_increase, aes(x=Year, y=Family_Social_Support, colour=Country)) + geom_point() +\n",
    "    geom_line() +\n",
    "    theme_minimal() +\n",
    "    scale_color_manual(values = c(\"pink3\", \"orange1\", \"orange3\", \"pink4\")) +\n",
    "    labs(title = \"Social Environment Score\",\n",
    "        subtitle = \"Based on Feelings of Family and Social Support\") +\n",
    "    xlab(NULL) +\n",
    "    ylab(NULL) +\n",
    "    scale_y_continuous(breaks=seq(0.0,1.5,0.5)) +\n",
    "    expand_limits(y = 0)\n",
    "\n",
    "dev.off()\n",
    "\n",
    "# Life Expectancy\n",
    "png(filename=\"health_increase.png\")\n",
    "\n",
    "ggplot(data=df_increase, aes(x=Year, y=Life_Expectancy, colour=Country)) + geom_point() +\n",
    "    geom_line() +\n",
    "    theme_minimal() +\n",
    "    scale_color_manual(values = c(\"pink3\", \"orange1\", \"orange3\", \"pink4\")) +\n",
    "    labs(title = \"Health Score\",\n",
    "        subtitle = \"Based on Life Expectancy\") +\n",
    "    xlab(NULL) +\n",
    "    ylab(NULL) +\n",
    "    scale_y_continuous(breaks=seq(0.0,1.0,0.25)) +\n",
    "    expand_limits(y = 0)\n",
    "\n",
    "dev.off()\n",
    "\n",
    "# Freedom\n",
    "png(filename=\"freedom_increase.png\")\n",
    "\n",
    "ggplot(data=df_increase, aes(x=Year, y=Freedom, colour=Country)) + geom_point() +\n",
    "    geom_line() +\n",
    "    theme_minimal() +\n",
    "    scale_color_manual(values = c(\"pink3\", \"orange1\", \"orange3\", \"pink4\")) +\n",
    "    labs(title = \"Freedom Score\",\n",
    "        subtitle = \"Evaluation of Freedom to Make Life Choices\") +\n",
    "    xlab(NULL) +\n",
    "    ylab(NULL) +\n",
    "    scale_y_continuous(breaks=seq(0.0,0.5,0.1)) +\n",
    "    expand_limits(y = 0)\n",
    "\n",
    "dev.off()\n",
    "\n",
    "# Trust/Corruption\n",
    "png(filename=\"government_increase.png\")\n",
    "\n",
    "ggplot(data=df_increase, aes(x=Year, y=Government_Corruption, colour=Country)) + geom_point() +\n",
    "    geom_line() +\n",
    "    theme_minimal() +\n",
    "    scale_color_manual(values = c(\"pink3\", \"orange1\", \"orange3\", \"pink4\")) +\n",
    "    labs(title = \"Corruption Score\",\n",
    "        subtitle = \"Based on Reported Trust in Goernment\") +\n",
    "    xlab(NULL) +\n",
    "    ylab(NULL) +\n",
    "    scale_y_continuous(breaks=seq(0.0,0.2,0.05)) +\n",
    "    expand_limits(y = 0)\n",
    "\n",
    "dev.off()\n",
    "\n",
    "# Generosity\n",
    "png(filename=\"generosity_increase.png\")\n",
    "\n",
    "ggplot(data=df_increase, aes(x=Year, y=Generosity, colour=Country)) + geom_point() +\n",
    "    geom_line() +\n",
    "    theme_minimal() +\n",
    "    scale_color_manual(values = c(\"pink3\", \"orange1\", \"orange3\", \"pink4\")) +\n",
    "    labs(title = \"Generosity Score\",\n",
    "        subtitle = \"Based on Giving of Both Money and Time\") +\n",
    "    xlab(NULL) +\n",
    "    ylab(NULL) +\n",
    "    scale_y_continuous(breaks=seq(0.0,0.3,0.05)) +\n",
    "    expand_limits(y = 0)\n",
    "\n",
    "dev.off()\n"
   ]
  },
  {
   "cell_type": "code",
   "execution_count": 36,
   "metadata": {},
   "outputs": [
    {
     "data": {
      "text/html": [
       "<strong>png:</strong> 2"
      ],
      "text/latex": [
       "\\textbf{png:} 2"
      ],
      "text/markdown": [
       "**png:** 2"
      ],
      "text/plain": [
       "png \n",
       "  2 "
      ]
     },
     "metadata": {},
     "output_type": "display_data"
    },
    {
     "data": {
      "text/html": [
       "<strong>png:</strong> 2"
      ],
      "text/latex": [
       "\\textbf{png:} 2"
      ],
      "text/markdown": [
       "**png:** 2"
      ],
      "text/plain": [
       "png \n",
       "  2 "
      ]
     },
     "metadata": {},
     "output_type": "display_data"
    },
    {
     "data": {
      "text/html": [
       "<strong>png:</strong> 2"
      ],
      "text/latex": [
       "\\textbf{png:} 2"
      ],
      "text/markdown": [
       "**png:** 2"
      ],
      "text/plain": [
       "png \n",
       "  2 "
      ]
     },
     "metadata": {},
     "output_type": "display_data"
    },
    {
     "data": {
      "text/html": [
       "<strong>png:</strong> 2"
      ],
      "text/latex": [
       "\\textbf{png:} 2"
      ],
      "text/markdown": [
       "**png:** 2"
      ],
      "text/plain": [
       "png \n",
       "  2 "
      ]
     },
     "metadata": {},
     "output_type": "display_data"
    },
    {
     "data": {
      "text/html": [
       "<strong>png:</strong> 2"
      ],
      "text/latex": [
       "\\textbf{png:} 2"
      ],
      "text/markdown": [
       "**png:** 2"
      ],
      "text/plain": [
       "png \n",
       "  2 "
      ]
     },
     "metadata": {},
     "output_type": "display_data"
    },
    {
     "data": {
      "text/html": [
       "<strong>png:</strong> 2"
      ],
      "text/latex": [
       "\\textbf{png:} 2"
      ],
      "text/markdown": [
       "**png:** 2"
      ],
      "text/plain": [
       "png \n",
       "  2 "
      ]
     },
     "metadata": {},
     "output_type": "display_data"
    }
   ],
   "source": [
    "# Line graphs tracking changes in countries with biggest decreases\n",
    "\n",
    "# GDP\n",
    "png(filename=\"GDP_decrease.png\")\n",
    "\n",
    "ggplot(data=df_decrease, aes(x=Year, y=GDP_per_Capita, colour=Country)) +geom_point() +\n",
    "    geom_line() +\n",
    "    theme_minimal() +\n",
    "    scale_color_manual(values = c(\"slateblue4\", \"plum3\", \"darkblue\", \"mediumorchid4\")) +\n",
    "    labs(title = \"Economics Score\",\n",
    "        subtitle = \"Based on GDP\") +\n",
    "    xlab(NULL) +\n",
    "    ylab(NULL) +\n",
    "    scale_y_continuous(breaks=seq(0.0,1.5,0.25)) +\n",
    "    expand_limits(y = 0)\n",
    "\n",
    "dev.off()\n",
    "\n",
    "# Family/Social Support\n",
    "png(filename=\"social_decrease.png\")\n",
    "\n",
    "ggplot(data=df_decrease, aes(x=Year, y=Family_Social_Support, colour=Country)) + geom_point() +\n",
    "    geom_line() +\n",
    "    theme_minimal() +\n",
    "    scale_color_manual(values = c(\"slateblue4\", \"plum3\", \"darkblue\", \"mediumorchid4\")) +\n",
    "    labs(title = \"Social Environment Score\",\n",
    "        subtitle = \"Based on Feelings of Family and Social Support\") +\n",
    "    xlab(NULL) +\n",
    "    ylab(NULL) +\n",
    "    scale_y_continuous(breaks=seq(0.0,1.5,0.5)) +\n",
    "    expand_limits(y = 0)\n",
    "\n",
    "dev.off()\n",
    "\n",
    "# Life Expectancy\n",
    "png(filename=\"health_decrease.png\")\n",
    "\n",
    "ggplot(data=df_decrease, aes(x=Year, y=Life_Expectancy, colour=Country)) + geom_point() +\n",
    "    geom_line() +\n",
    "    theme_minimal() +\n",
    "    scale_color_manual(values = c(\"slateblue4\", \"plum3\", \"darkblue\", \"mediumorchid4\")) +\n",
    "    labs(title = \"Health Score\",\n",
    "        subtitle = \"Based on Life Expectancy\") +\n",
    "    xlab(NULL) +\n",
    "    ylab(NULL) +\n",
    "    scale_y_continuous(breaks=seq(0.0,1.0,0.25)) +\n",
    "    expand_limits(y = 0)\n",
    "\n",
    "dev.off()\n",
    "\n",
    "# Freedom\n",
    "png(filename=\"freedom_decrease.png\")\n",
    "\n",
    "ggplot(data=df_decrease, aes(x=Year, y=Freedom, colour=Country)) + geom_point() +\n",
    "    geom_line() +\n",
    "    theme_minimal() +\n",
    "    scale_color_manual(values = c(\"slateblue4\", \"plum3\", \"darkblue\", \"mediumorchid4\")) +\n",
    "    labs(title = \"Freedom Score\",\n",
    "        subtitle = \"Evaluation of Freedom to Make Life Choices\") +\n",
    "    xlab(NULL) +\n",
    "    ylab(NULL) +\n",
    "    scale_y_continuous(breaks=seq(0.0,0.5,0.1)) +\n",
    "    expand_limits(y = 0)\n",
    "\n",
    "dev.off()\n",
    "\n",
    "# Trust/Corruption\n",
    "png(filename=\"government_decrease.png\")\n",
    "\n",
    "ggplot(data=df_decrease, aes(x=Year, y=Government_Corruption, colour=Country)) + geom_point() +\n",
    "    geom_line() +\n",
    "    theme_minimal() +\n",
    "    scale_color_manual(values = c(\"slateblue4\", \"plum3\", \"darkblue\", \"mediumorchid4\")) +\n",
    "    labs(title = \"Corruption Score\",\n",
    "        subtitle = \"Based on Reported Trust in Goernment\") +\n",
    "    xlab(NULL) +\n",
    "    ylab(NULL) +\n",
    "    scale_y_continuous(breaks=seq(0.0,0.2,0.05)) +\n",
    "    expand_limits(y = 0)\n",
    "\n",
    "dev.off()\n",
    "\n",
    "# Generosity\n",
    "png(filename=\"generosity_decrease.png\")\n",
    "\n",
    "ggplot(data=df_decrease, aes(x=Year, y=Generosity, colour=Country)) + geom_point() +\n",
    "    geom_line() +\n",
    "    theme_minimal() +\n",
    "    scale_color_manual(values = c(\"slateblue4\", \"plum3\", \"darkblue\", \"mediumorchid4\")) +\n",
    "    labs(title = \"Generosity Score\",\n",
    "        subtitle = \"Based on Giving of Both Money and Time\") +\n",
    "    xlab(NULL) +\n",
    "    ylab(NULL) +\n",
    "    scale_y_continuous(breaks=seq(0.0,0.3,0.05)) +\n",
    "    expand_limits(y = 0)\n",
    "\n",
    "dev.off()\n"
   ]
  },
  {
   "cell_type": "markdown",
   "metadata": {},
   "source": [
    "---\n",
    "\n",
    "# Common Pitfalls / Inefficiencies\n",
    "\n",
    "**Pay attention to the following in your visualizations and stories:**\n",
    "\n",
    "\n",
    "### Color coordinate among plots so that the same data attributes have the same color in all plots\n",
    "\n",
    "you can do that by creating a manual palette and use it everywhere to make sure same color is always assigned to the same attribute value. \n",
    "\n",
    "\n",
    "### Perceptual grouping is important! group and/or order values\n",
    "\n",
    "In a bar chart, **order the axes** by time, value, etc. to make comparisons more intuitive. \n",
    "\n",
    "Pie chart: order wedges. \n",
    "\n",
    "In a bubble map, if you want to show trends, use grouping variable to **connect** bubbles, etc. \n",
    "\n",
    "\n",
    "### No lengthy text in x axis\n",
    "\n",
    "Flip the axes of a bar chart so that string values (text) are readable on the y axis left to right, \n",
    "\n",
    "**or** \n",
    "\n",
    "at least put them slanted in x axis for better readibility. \n",
    "\n",
    "\n",
    "### Plot only those that tell an obvious story\n",
    "\n",
    "**No crowded** scatter plots with useless linear regression lines that don't tell anything. Look at alternative plots to tell your story.\n",
    "\n",
    "\n",
    "### If you have too many classes (discrete variables/categories), try to group them \n",
    "\n",
    "Instead of giving a color to each of them, you can put them in meaningful groups and color code.\n",
    "\n",
    "For sequential variables, you can do the same thing by binning. \n",
    "\n",
    "Stepped color palettes may be more useful than smooth sequential palettes (especially for comparison in choropleth maps).\n",
    "\n",
    "You can group/cluster data into meaningful chunks and display those as bubble charts, networks, geographical regions, etc. \n",
    "\n",
    "Do NOT dump all the data in the plot unless there is a CLEAR pattern/clustering to it that can be perceived immediately. \n",
    "\n",
    "\n",
    "### ANNOTATE!\n",
    "\n",
    "**Tell** your audience what they are supposed to see. \n",
    "\n",
    "Use meaningful titles with a message, not dry titles. \n",
    "\n",
    "Use nice and concise axis labels. \n",
    "\n",
    "Use text annotations (look at the **examples in the lab notebook**).\n",
    "\n",
    "\n",
    "\n",
    "### THEMING!\n",
    "\n",
    "**Good looking** charts are more **convincing**. \n",
    "\n",
    "**Almost NEVER use the default color palette, default theme, default font.**\n",
    "\n",
    "\n",
    "Use a subtle color scheme, nice fonts, interesting glyphs, etc. to make your charts look more **sophisticated**. \n",
    "\n",
    "\n",
    "\n",
    "### Use space wisely!\n",
    "\n",
    "**Balance the plots** to use space effectively.\n",
    "\n",
    "Pay attention to data-ink ratio.\n",
    "\n",
    "HAVE A FLOW left to right, top to bottom. \n",
    "\n",
    "\n"
   ]
  },
  {
   "cell_type": "code",
   "execution_count": null,
   "metadata": {},
   "outputs": [],
   "source": []
  }
 ],
 "metadata": {
  "kernelspec": {
   "display_name": "R",
   "language": "R",
   "name": "ir"
  },
  "language_info": {
   "codemirror_mode": "r",
   "file_extension": ".r",
   "mimetype": "text/x-r-source",
   "name": "R",
   "pygments_lexer": "r",
   "version": "3.5.1"
  }
 },
 "nbformat": 4,
 "nbformat_minor": 2
}
